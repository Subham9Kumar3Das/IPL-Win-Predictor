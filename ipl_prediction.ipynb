{
 "cells": [
  {
   "cell_type": "markdown",
   "id": "cb15972a",
   "metadata": {},
   "source": [
    "## 🏏 IPL Match Winner Prediction Using Machine Learning\n",
    "\n",
    "### 📦 1. Import Libraries"
   ]
  },
  {
   "cell_type": "code",
   "execution_count": 228,
   "id": "ea6c5e23-8157-4eaa-8c65-f2f25e9ef397",
   "metadata": {},
   "outputs": [],
   "source": [
    "import pandas as pd     # for data manipulation\n"
   ]
  },
  {
   "cell_type": "markdown",
   "id": "6d799094",
   "metadata": {},
   "source": [
    "### 📊 2. Load and Explore Data"
   ]
  },
  {
   "cell_type": "code",
   "execution_count": 229,
   "id": "84cdf307",
   "metadata": {},
   "outputs": [],
   "source": [
    "match = pd.read_csv('datasets/matches.csv')\n",
    "delivery = pd.read_csv('datasets/deliveries.csv')"
   ]
  },
  {
   "cell_type": "code",
   "execution_count": 230,
   "id": "42d66933",
   "metadata": {},
   "outputs": [],
   "source": [
    "# delivery.info()\n",
    "# match.info()"
   ]
  },
  {
   "cell_type": "markdown",
   "id": "99debe6d",
   "metadata": {},
   "source": [
    "### 🧮 3. Preprocess First Innings Total Score"
   ]
  },
  {
   "cell_type": "code",
   "execution_count": 231,
   "id": "49b44242",
   "metadata": {},
   "outputs": [],
   "source": [
    "# delivery.head()"
   ]
  },
  {
   "cell_type": "code",
   "execution_count": 232,
   "id": "a3685070",
   "metadata": {},
   "outputs": [],
   "source": [
    "total_score_df = delivery.groupby(['match_id', 'inning']).sum()['total_runs'].reset_index()     # group by match_id and inning and sum the total runs & store in 'total_runs' column\n",
    "\n",
    "# Filter for first innings\n",
    "total_score_df = total_score_df[total_score_df['inning'] == 1]\n",
    "\n",
    "# Merge the match and total_score_df dataframes by match_id present in total_score_df & id present in match, store in match_df\n",
    "match_df = match.merge(total_score_df[['match_id', 'total_runs']], left_on='id', right_on='match_id')\n"
   ]
  },
  {
   "cell_type": "code",
   "execution_count": 233,
   "id": "43905100",
   "metadata": {},
   "outputs": [],
   "source": [
    "# total_score_df\n",
    "# match_df"
   ]
  },
  {
   "cell_type": "markdown",
   "id": "94e86cb4",
   "metadata": {},
   "source": [
    "### 🧹 4. Clean and Normalize Team Names"
   ]
  },
  {
   "cell_type": "code",
   "execution_count": 234,
   "id": "46ce90f6",
   "metadata": {},
   "outputs": [],
   "source": [
    "# Current teams\n",
    "teams = [\n",
    "    'Chennai Super Kings',\n",
    "    'Royal Challengers Bengaluru',\n",
    "    'Delhi Capitals',\n",
    "    'Kolkata Knight Riders',\n",
    "    'Mumbai Indians',\n",
    "    'Punjab Kings',\n",
    "    'Rajasthan Royals',\n",
    "    'Sunrisers Hyderabad',\n",
    "    'Lucknow Super Giants', \n",
    "    'Gujarat Titans'\n",
    "]\n",
    "\n",
    "# Fix old team names with new one\n",
    "team_renames = {\n",
    "    'Royal Challengers Bangalore': 'Royal Challengers Bengaluru',\n",
    "    'Kings XI Punjab': 'Punjab Kings',\n",
    "    'Delhi Daredevils': 'Delhi Capitals',\n",
    "    'Deccan Chargers': 'Sunrisers Hyderabad'\n",
    "}"
   ]
  },
  {
   "cell_type": "code",
   "execution_count": 235,
   "id": "ddfbc05d",
   "metadata": {},
   "outputs": [],
   "source": [
    "\n",
    "for old, new in team_renames.items():\n",
    "    match_df['team1'] = match_df['team1'].str.replace(old, new)\n",
    "    match_df['team2'] = match_df['team2'].str.replace(old, new)\n",
    "\n",
    "\n",
    "# Filter for teams in teams list\n",
    "match_df = match_df[match_df['team1'].isin(teams)]\n",
    "match_df = match_df[match_df['team2'].isin(teams)]\n",
    "\n",
    "# match_df = match_df[match_df['method'] != 'D/L']        # Remove D/L method (DLS Method)\n",
    "\n",
    "match_df = match_df[['match_id', 'city', 'winner', 'total_runs']]       # Extract the required fields such as city, winner, total_runs"
   ]
  },
  {
   "cell_type": "code",
   "execution_count": 236,
   "id": "59cfff9d-c11b-444f-b507-5339b578fc83",
   "metadata": {},
   "outputs": [],
   "source": [
    "# match_df"
   ]
  },
  {
   "cell_type": "markdown",
   "id": "28a8aa8c",
   "metadata": {},
   "source": [
    "### 🧮 5. Second Innings Match Analysis"
   ]
  },
  {
   "cell_type": "code",
   "execution_count": 237,
   "id": "6b23f93f",
   "metadata": {},
   "outputs": [],
   "source": [
    "delivery_df = match_df.merge(delivery, on=\"match_id\")       # Merge the match_df with delivery\n",
    "\n",
    "delivery_df = delivery_df[delivery_df['inning'] == 2]       # Filter for second innings, as we have to find while chasing the target\n",
    "   \n",
    "delivery_df['current_score'] = delivery_df.groupby('match_id')['total_runs_y'].cumsum()     # Calculate the current score after each delivery"
   ]
  },
  {
   "cell_type": "code",
   "execution_count": 238,
   "id": "c407e1e2",
   "metadata": {},
   "outputs": [],
   "source": [
    "delivery_df['runs_left'] = (delivery_df['total_runs_x'] - delivery_df['current_score'] + 1).clip(lower=0) # Calculate runs left after each delivery (+1 to win the match)"
   ]
  },
  {
   "cell_type": "code",
   "execution_count": 239,
   "id": "fb36e161",
   "metadata": {},
   "outputs": [],
   "source": [
    "# delivery_df.columns"
   ]
  },
  {
   "cell_type": "code",
   "execution_count": 240,
   "id": "3d797ab3",
   "metadata": {},
   "outputs": [],
   "source": [
    "delivery_df['player_dismissed'] = delivery_df['player_dismissed'].fillna(\"0\")\n",
    "delivery_df['player_dismissed'] = delivery_df['player_dismissed'].apply(lambda x:x if x == \"0\" else \"1\")\n",
    "delivery_df['player_dismissed'] = delivery_df['player_dismissed'].astype('int')\n",
    "wickets = delivery_df.groupby('match_id')['player_dismissed'].cumsum().values\n",
    "delivery_df['wickets_left'] = 10 - wickets"
   ]
  },
  {
   "cell_type": "code",
   "execution_count": 241,
   "id": "4cbf7110",
   "metadata": {},
   "outputs": [],
   "source": [
    "# delivery_df"
   ]
  },
  {
   "cell_type": "markdown",
   "id": "6152fc5e",
   "metadata": {},
   "source": [
    "### 🧮 6. Ball Legality, Overs & Wickets"
   ]
  },
  {
   "cell_type": "code",
   "execution_count": 242,
   "id": "cf182fa3",
   "metadata": {},
   "outputs": [],
   "source": [
    "# delivery_df.extras_type.unique()"
   ]
  },
  {
   "cell_type": "code",
   "execution_count": 243,
   "id": "df1cb08e-f567-40bf-8aa1-4241fbc37727",
   "metadata": {},
   "outputs": [],
   "source": [
    "# Filter for legal deliveries & store in a new column is_legal\n",
    "delivery_df['is_legal'] = ~delivery_df['extras_type'].isin(['wides', 'legbyes', 'byes', 'noballs', 'penalty'])      \n",
    "\n",
    "delivery_df['is_legal'] = delivery_df['is_legal'].fillna(True)  # Replace NaNs with True (if extras_type is NaN, it's a legal delivery)\n",
    "\n",
    "delivery_df['legal_ball_number'] = delivery_df.groupby(['match_id', 'inning'])['is_legal'].cumsum() # Calculate the legal ball number after each delivery"
   ]
  },
  {
   "cell_type": "code",
   "execution_count": 244,
   "id": "d826a071",
   "metadata": {},
   "outputs": [],
   "source": [
    "# delivery_df"
   ]
  },
  {
   "cell_type": "markdown",
   "id": "6c8dbe8e",
   "metadata": {},
   "source": [
    "### ⚙️ 7. Calculate Run Rates & Match Result"
   ]
  },
  {
   "cell_type": "code",
   "execution_count": 245,
   "id": "98ac844e",
   "metadata": {},
   "outputs": [],
   "source": [
    "# Calculate overs\n",
    "\n",
    "delivery_df['overs_done'] = delivery_df['legal_ball_number'] / 6"
   ]
  },
  {
   "cell_type": "code",
   "execution_count": 246,
   "id": "0e6eebdd",
   "metadata": {},
   "outputs": [],
   "source": [
    "# Calculate current run rate\n",
    "# crr = (runs scored / overs played)\n",
    "delivery_df['crr'] = delivery_df.apply(\n",
    "    lambda x: x['current_score'] / x['overs_done'] if x['overs_done'] > 0 else 0,\n",
    "    axis=1\n",
    ")"
   ]
  },
  {
   "cell_type": "code",
   "execution_count": 247,
   "id": "1f35ab0b",
   "metadata": {},
   "outputs": [],
   "source": [
    "# Calculate overs left\n",
    "delivery_df['overs_left'] = (120 - delivery_df['legal_ball_number']) / 6\n",
    "\n",
    "# Calculate required run rate\n",
    "# rrr = (runs needed / overs left)\n",
    "delivery_df['rrr'] = delivery_df.apply(\n",
    "    lambda x: x['runs_left'] / x['overs_left'] if x['overs_left'] > 0 else 0,\n",
    "    axis=1\n",
    ")"
   ]
  },
  {
   "cell_type": "code",
   "execution_count": 248,
   "id": "bc54c29e",
   "metadata": {},
   "outputs": [],
   "source": [
    "# delivery_df"
   ]
  },
  {
   "cell_type": "code",
   "execution_count": 249,
   "id": "83a57087",
   "metadata": {},
   "outputs": [],
   "source": [
    "# Calculate result as boolean (win = 1, loss = 0)\n",
    "# if batting team in 2nd inning is winner then result = 1 else result = 0\n",
    "\n",
    "def result(row): \n",
    "    return 1 if row['batting_team'] == row['winner'] else 0\n",
    "delivery_df['result'] = delivery_df.apply(result, axis=1)    "
   ]
  },
  {
   "cell_type": "code",
   "execution_count": 250,
   "id": "3bb33506",
   "metadata": {},
   "outputs": [],
   "source": [
    "# Find the balls left after each legal delivery in 2nd inning\n",
    "\n",
    "delivery_df['balls_left'] = 120 - delivery_df['legal_ball_number']\n",
    "delivery_df['balls_left'] = delivery_df.apply(\n",
    "    lambda x: 120 - x['legal_ball_number'] if x['inning'] == 2 else None,\n",
    "    axis=1\n",
    ")"
   ]
  },
  {
   "cell_type": "code",
   "execution_count": 251,
   "id": "019340c3",
   "metadata": {},
   "outputs": [],
   "source": [
    "# delivery_df.sample(5)\n",
    "# delivery_df.columns"
   ]
  },
  {
   "cell_type": "markdown",
   "id": "696e9f3d",
   "metadata": {},
   "source": [
    "### 📄 8. Final Dataset Preparation"
   ]
  },
  {
   "cell_type": "code",
   "execution_count": 252,
   "id": "26981fa1",
   "metadata": {},
   "outputs": [],
   "source": [
    "# Extract required columns\n",
    "final_df = delivery_df[['batting_team', 'bowling_team', 'city', 'runs_left', 'balls_left', 'wickets_left', 'total_runs_x', 'crr', 'rrr', 'result']]"
   ]
  },
  {
   "cell_type": "code",
   "execution_count": 253,
   "id": "2ae8db3e",
   "metadata": {},
   "outputs": [],
   "source": [
    "final_df = final_df.sample(final_df.shape[0])      # shuffle each delivery to avoid overfitting / bias\n",
    "\n",
    "final_df.dropna(inplace=True)       # removes all rows in final_df that contains at least one NaN value"
   ]
  },
  {
   "cell_type": "code",
   "execution_count": 254,
   "id": "e97615e8",
   "metadata": {},
   "outputs": [],
   "source": [
    "final_df = final_df[final_df['balls_left'] != 0]  # Filter out all rows where balls_left is not Zero"
   ]
  },
  {
   "cell_type": "code",
   "execution_count": 255,
   "id": "f11774e8",
   "metadata": {},
   "outputs": [],
   "source": [
    "# final_df"
   ]
  },
  {
   "cell_type": "markdown",
   "id": "4be3a277",
   "metadata": {},
   "source": [
    "### 🧠 9. Model Training Setup"
   ]
  },
  {
   "cell_type": "code",
   "execution_count": 256,
   "id": "8bcdeb84",
   "metadata": {},
   "outputs": [],
   "source": [
    "from sklearn.model_selection import train_test_split        # Split data into training and test sets"
   ]
  },
  {
   "cell_type": "code",
   "execution_count": 257,
   "id": "db5315d0",
   "metadata": {},
   "outputs": [],
   "source": [
    "X = final_df.iloc[:,:-1] # all rows & all columns except result (last column)\n",
    "y = final_df.iloc[:,-1] # all rows & last column only\n",
    "\n",
    "X_train, X_test, y_train, y_test = train_test_split(X, y, test_size=0.2, random_state=1) # 80% training data & 20% test data, random_state=1 for reproducibility"
   ]
  },
  {
   "cell_type": "code",
   "execution_count": 258,
   "id": "f40ecbf1",
   "metadata": {},
   "outputs": [],
   "source": [
    "from sklearn.compose import ColumnTransformer       # apply transformer to specific columns\n",
    "from sklearn.preprocessing import OneHotEncoder     # convert categorical to binary values"
   ]
  },
  {
   "cell_type": "code",
   "execution_count": 259,
   "id": "7d9715b5",
   "metadata": {},
   "outputs": [],
   "source": [
    "# Convert categorical data to numeric formats\n",
    "trf = ColumnTransformer([\n",
    "    ('trf', OneHotEncoder(drop='first'), ['batting_team', 'bowling_team', 'city']) \n",
    "    # sparse_output=False to return numpy array\n",
    "    # drop='first' to avoid dummy variable trap\n",
    "], remainder='passthrough') # remainder='passthrough' to keep the other columns as it is"
   ]
  },
  {
   "cell_type": "markdown",
   "id": "f6ad6a88",
   "metadata": {},
   "source": [
    "### 🤖 10. Model Training & Evaluation"
   ]
  },
  {
   "cell_type": "code",
   "execution_count": 260,
   "id": "cc7d9c56",
   "metadata": {},
   "outputs": [],
   "source": [
    "from sklearn.pipeline import Pipeline       # combine transformers and models\n",
    "from sklearn.linear_model import LogisticRegression     # Logistic Regression\n",
    "from sklearn.ensemble import RandomForestClassifier     # Random Forest"
   ]
  },
  {
   "cell_type": "code",
   "execution_count": 261,
   "id": "60e1d672",
   "metadata": {},
   "outputs": [],
   "source": [
    "# Create the pipeline\n",
    "\n",
    "pipe = Pipeline(steps=[\n",
    "    ('step1', trf),\n",
    "    ('step2', LogisticRegression(solver='liblinear'))   # Logistic Regression\n",
    "    # ('step2', RandomForestClassifier())   # Random Forest\n",
    "])"
   ]
  },
  {
   "cell_type": "code",
   "execution_count": 262,
   "id": "c5cb638a",
   "metadata": {},
   "outputs": [
    {
     "name": "stderr",
     "output_type": "stream",
     "text": [
      "/home/manas/coding/python/IPL Prediction Model/.venv/lib/python3.12/site-packages/sklearn/compose/_column_transformer.py:1667: FutureWarning: \n",
      "The format of the columns of the 'remainder' transformer in ColumnTransformer.transformers_ will change in version 1.7 to match the format of the other transformers.\n",
      "At the moment the remainder columns are stored as indices (of type int). With the same ColumnTransformer configuration, in the future they will be stored as column names (of type str).\n",
      "To use the new behavior now and suppress this warning, use ColumnTransformer(force_int_remainder_cols=False).\n",
      "\n",
      "  warnings.warn(\n"
     ]
    },
    {
     "data": {
      "text/html": [
       "<style>#sk-container-id-9 {\n",
       "  /* Definition of color scheme common for light and dark mode */\n",
       "  --sklearn-color-text: #000;\n",
       "  --sklearn-color-text-muted: #666;\n",
       "  --sklearn-color-line: gray;\n",
       "  /* Definition of color scheme for unfitted estimators */\n",
       "  --sklearn-color-unfitted-level-0: #fff5e6;\n",
       "  --sklearn-color-unfitted-level-1: #f6e4d2;\n",
       "  --sklearn-color-unfitted-level-2: #ffe0b3;\n",
       "  --sklearn-color-unfitted-level-3: chocolate;\n",
       "  /* Definition of color scheme for fitted estimators */\n",
       "  --sklearn-color-fitted-level-0: #f0f8ff;\n",
       "  --sklearn-color-fitted-level-1: #d4ebff;\n",
       "  --sklearn-color-fitted-level-2: #b3dbfd;\n",
       "  --sklearn-color-fitted-level-3: cornflowerblue;\n",
       "\n",
       "  /* Specific color for light theme */\n",
       "  --sklearn-color-text-on-default-background: var(--sg-text-color, var(--theme-code-foreground, var(--jp-content-font-color1, black)));\n",
       "  --sklearn-color-background: var(--sg-background-color, var(--theme-background, var(--jp-layout-color0, white)));\n",
       "  --sklearn-color-border-box: var(--sg-text-color, var(--theme-code-foreground, var(--jp-content-font-color1, black)));\n",
       "  --sklearn-color-icon: #696969;\n",
       "\n",
       "  @media (prefers-color-scheme: dark) {\n",
       "    /* Redefinition of color scheme for dark theme */\n",
       "    --sklearn-color-text-on-default-background: var(--sg-text-color, var(--theme-code-foreground, var(--jp-content-font-color1, white)));\n",
       "    --sklearn-color-background: var(--sg-background-color, var(--theme-background, var(--jp-layout-color0, #111)));\n",
       "    --sklearn-color-border-box: var(--sg-text-color, var(--theme-code-foreground, var(--jp-content-font-color1, white)));\n",
       "    --sklearn-color-icon: #878787;\n",
       "  }\n",
       "}\n",
       "\n",
       "#sk-container-id-9 {\n",
       "  color: var(--sklearn-color-text);\n",
       "}\n",
       "\n",
       "#sk-container-id-9 pre {\n",
       "  padding: 0;\n",
       "}\n",
       "\n",
       "#sk-container-id-9 input.sk-hidden--visually {\n",
       "  border: 0;\n",
       "  clip: rect(1px 1px 1px 1px);\n",
       "  clip: rect(1px, 1px, 1px, 1px);\n",
       "  height: 1px;\n",
       "  margin: -1px;\n",
       "  overflow: hidden;\n",
       "  padding: 0;\n",
       "  position: absolute;\n",
       "  width: 1px;\n",
       "}\n",
       "\n",
       "#sk-container-id-9 div.sk-dashed-wrapped {\n",
       "  border: 1px dashed var(--sklearn-color-line);\n",
       "  margin: 0 0.4em 0.5em 0.4em;\n",
       "  box-sizing: border-box;\n",
       "  padding-bottom: 0.4em;\n",
       "  background-color: var(--sklearn-color-background);\n",
       "}\n",
       "\n",
       "#sk-container-id-9 div.sk-container {\n",
       "  /* jupyter's `normalize.less` sets `[hidden] { display: none; }`\n",
       "     but bootstrap.min.css set `[hidden] { display: none !important; }`\n",
       "     so we also need the `!important` here to be able to override the\n",
       "     default hidden behavior on the sphinx rendered scikit-learn.org.\n",
       "     See: https://github.com/scikit-learn/scikit-learn/issues/21755 */\n",
       "  display: inline-block !important;\n",
       "  position: relative;\n",
       "}\n",
       "\n",
       "#sk-container-id-9 div.sk-text-repr-fallback {\n",
       "  display: none;\n",
       "}\n",
       "\n",
       "div.sk-parallel-item,\n",
       "div.sk-serial,\n",
       "div.sk-item {\n",
       "  /* draw centered vertical line to link estimators */\n",
       "  background-image: linear-gradient(var(--sklearn-color-text-on-default-background), var(--sklearn-color-text-on-default-background));\n",
       "  background-size: 2px 100%;\n",
       "  background-repeat: no-repeat;\n",
       "  background-position: center center;\n",
       "}\n",
       "\n",
       "/* Parallel-specific style estimator block */\n",
       "\n",
       "#sk-container-id-9 div.sk-parallel-item::after {\n",
       "  content: \"\";\n",
       "  width: 100%;\n",
       "  border-bottom: 2px solid var(--sklearn-color-text-on-default-background);\n",
       "  flex-grow: 1;\n",
       "}\n",
       "\n",
       "#sk-container-id-9 div.sk-parallel {\n",
       "  display: flex;\n",
       "  align-items: stretch;\n",
       "  justify-content: center;\n",
       "  background-color: var(--sklearn-color-background);\n",
       "  position: relative;\n",
       "}\n",
       "\n",
       "#sk-container-id-9 div.sk-parallel-item {\n",
       "  display: flex;\n",
       "  flex-direction: column;\n",
       "}\n",
       "\n",
       "#sk-container-id-9 div.sk-parallel-item:first-child::after {\n",
       "  align-self: flex-end;\n",
       "  width: 50%;\n",
       "}\n",
       "\n",
       "#sk-container-id-9 div.sk-parallel-item:last-child::after {\n",
       "  align-self: flex-start;\n",
       "  width: 50%;\n",
       "}\n",
       "\n",
       "#sk-container-id-9 div.sk-parallel-item:only-child::after {\n",
       "  width: 0;\n",
       "}\n",
       "\n",
       "/* Serial-specific style estimator block */\n",
       "\n",
       "#sk-container-id-9 div.sk-serial {\n",
       "  display: flex;\n",
       "  flex-direction: column;\n",
       "  align-items: center;\n",
       "  background-color: var(--sklearn-color-background);\n",
       "  padding-right: 1em;\n",
       "  padding-left: 1em;\n",
       "}\n",
       "\n",
       "\n",
       "/* Toggleable style: style used for estimator/Pipeline/ColumnTransformer box that is\n",
       "clickable and can be expanded/collapsed.\n",
       "- Pipeline and ColumnTransformer use this feature and define the default style\n",
       "- Estimators will overwrite some part of the style using the `sk-estimator` class\n",
       "*/\n",
       "\n",
       "/* Pipeline and ColumnTransformer style (default) */\n",
       "\n",
       "#sk-container-id-9 div.sk-toggleable {\n",
       "  /* Default theme specific background. It is overwritten whether we have a\n",
       "  specific estimator or a Pipeline/ColumnTransformer */\n",
       "  background-color: var(--sklearn-color-background);\n",
       "}\n",
       "\n",
       "/* Toggleable label */\n",
       "#sk-container-id-9 label.sk-toggleable__label {\n",
       "  cursor: pointer;\n",
       "  display: flex;\n",
       "  width: 100%;\n",
       "  margin-bottom: 0;\n",
       "  padding: 0.5em;\n",
       "  box-sizing: border-box;\n",
       "  text-align: center;\n",
       "  align-items: start;\n",
       "  justify-content: space-between;\n",
       "  gap: 0.5em;\n",
       "}\n",
       "\n",
       "#sk-container-id-9 label.sk-toggleable__label .caption {\n",
       "  font-size: 0.6rem;\n",
       "  font-weight: lighter;\n",
       "  color: var(--sklearn-color-text-muted);\n",
       "}\n",
       "\n",
       "#sk-container-id-9 label.sk-toggleable__label-arrow:before {\n",
       "  /* Arrow on the left of the label */\n",
       "  content: \"▸\";\n",
       "  float: left;\n",
       "  margin-right: 0.25em;\n",
       "  color: var(--sklearn-color-icon);\n",
       "}\n",
       "\n",
       "#sk-container-id-9 label.sk-toggleable__label-arrow:hover:before {\n",
       "  color: var(--sklearn-color-text);\n",
       "}\n",
       "\n",
       "/* Toggleable content - dropdown */\n",
       "\n",
       "#sk-container-id-9 div.sk-toggleable__content {\n",
       "  max-height: 0;\n",
       "  max-width: 0;\n",
       "  overflow: hidden;\n",
       "  text-align: left;\n",
       "  /* unfitted */\n",
       "  background-color: var(--sklearn-color-unfitted-level-0);\n",
       "}\n",
       "\n",
       "#sk-container-id-9 div.sk-toggleable__content.fitted {\n",
       "  /* fitted */\n",
       "  background-color: var(--sklearn-color-fitted-level-0);\n",
       "}\n",
       "\n",
       "#sk-container-id-9 div.sk-toggleable__content pre {\n",
       "  margin: 0.2em;\n",
       "  border-radius: 0.25em;\n",
       "  color: var(--sklearn-color-text);\n",
       "  /* unfitted */\n",
       "  background-color: var(--sklearn-color-unfitted-level-0);\n",
       "}\n",
       "\n",
       "#sk-container-id-9 div.sk-toggleable__content.fitted pre {\n",
       "  /* unfitted */\n",
       "  background-color: var(--sklearn-color-fitted-level-0);\n",
       "}\n",
       "\n",
       "#sk-container-id-9 input.sk-toggleable__control:checked~div.sk-toggleable__content {\n",
       "  /* Expand drop-down */\n",
       "  max-height: 200px;\n",
       "  max-width: 100%;\n",
       "  overflow: auto;\n",
       "}\n",
       "\n",
       "#sk-container-id-9 input.sk-toggleable__control:checked~label.sk-toggleable__label-arrow:before {\n",
       "  content: \"▾\";\n",
       "}\n",
       "\n",
       "/* Pipeline/ColumnTransformer-specific style */\n",
       "\n",
       "#sk-container-id-9 div.sk-label input.sk-toggleable__control:checked~label.sk-toggleable__label {\n",
       "  color: var(--sklearn-color-text);\n",
       "  background-color: var(--sklearn-color-unfitted-level-2);\n",
       "}\n",
       "\n",
       "#sk-container-id-9 div.sk-label.fitted input.sk-toggleable__control:checked~label.sk-toggleable__label {\n",
       "  background-color: var(--sklearn-color-fitted-level-2);\n",
       "}\n",
       "\n",
       "/* Estimator-specific style */\n",
       "\n",
       "/* Colorize estimator box */\n",
       "#sk-container-id-9 div.sk-estimator input.sk-toggleable__control:checked~label.sk-toggleable__label {\n",
       "  /* unfitted */\n",
       "  background-color: var(--sklearn-color-unfitted-level-2);\n",
       "}\n",
       "\n",
       "#sk-container-id-9 div.sk-estimator.fitted input.sk-toggleable__control:checked~label.sk-toggleable__label {\n",
       "  /* fitted */\n",
       "  background-color: var(--sklearn-color-fitted-level-2);\n",
       "}\n",
       "\n",
       "#sk-container-id-9 div.sk-label label.sk-toggleable__label,\n",
       "#sk-container-id-9 div.sk-label label {\n",
       "  /* The background is the default theme color */\n",
       "  color: var(--sklearn-color-text-on-default-background);\n",
       "}\n",
       "\n",
       "/* On hover, darken the color of the background */\n",
       "#sk-container-id-9 div.sk-label:hover label.sk-toggleable__label {\n",
       "  color: var(--sklearn-color-text);\n",
       "  background-color: var(--sklearn-color-unfitted-level-2);\n",
       "}\n",
       "\n",
       "/* Label box, darken color on hover, fitted */\n",
       "#sk-container-id-9 div.sk-label.fitted:hover label.sk-toggleable__label.fitted {\n",
       "  color: var(--sklearn-color-text);\n",
       "  background-color: var(--sklearn-color-fitted-level-2);\n",
       "}\n",
       "\n",
       "/* Estimator label */\n",
       "\n",
       "#sk-container-id-9 div.sk-label label {\n",
       "  font-family: monospace;\n",
       "  font-weight: bold;\n",
       "  display: inline-block;\n",
       "  line-height: 1.2em;\n",
       "}\n",
       "\n",
       "#sk-container-id-9 div.sk-label-container {\n",
       "  text-align: center;\n",
       "}\n",
       "\n",
       "/* Estimator-specific */\n",
       "#sk-container-id-9 div.sk-estimator {\n",
       "  font-family: monospace;\n",
       "  border: 1px dotted var(--sklearn-color-border-box);\n",
       "  border-radius: 0.25em;\n",
       "  box-sizing: border-box;\n",
       "  margin-bottom: 0.5em;\n",
       "  /* unfitted */\n",
       "  background-color: var(--sklearn-color-unfitted-level-0);\n",
       "}\n",
       "\n",
       "#sk-container-id-9 div.sk-estimator.fitted {\n",
       "  /* fitted */\n",
       "  background-color: var(--sklearn-color-fitted-level-0);\n",
       "}\n",
       "\n",
       "/* on hover */\n",
       "#sk-container-id-9 div.sk-estimator:hover {\n",
       "  /* unfitted */\n",
       "  background-color: var(--sklearn-color-unfitted-level-2);\n",
       "}\n",
       "\n",
       "#sk-container-id-9 div.sk-estimator.fitted:hover {\n",
       "  /* fitted */\n",
       "  background-color: var(--sklearn-color-fitted-level-2);\n",
       "}\n",
       "\n",
       "/* Specification for estimator info (e.g. \"i\" and \"?\") */\n",
       "\n",
       "/* Common style for \"i\" and \"?\" */\n",
       "\n",
       ".sk-estimator-doc-link,\n",
       "a:link.sk-estimator-doc-link,\n",
       "a:visited.sk-estimator-doc-link {\n",
       "  float: right;\n",
       "  font-size: smaller;\n",
       "  line-height: 1em;\n",
       "  font-family: monospace;\n",
       "  background-color: var(--sklearn-color-background);\n",
       "  border-radius: 1em;\n",
       "  height: 1em;\n",
       "  width: 1em;\n",
       "  text-decoration: none !important;\n",
       "  margin-left: 0.5em;\n",
       "  text-align: center;\n",
       "  /* unfitted */\n",
       "  border: var(--sklearn-color-unfitted-level-1) 1pt solid;\n",
       "  color: var(--sklearn-color-unfitted-level-1);\n",
       "}\n",
       "\n",
       ".sk-estimator-doc-link.fitted,\n",
       "a:link.sk-estimator-doc-link.fitted,\n",
       "a:visited.sk-estimator-doc-link.fitted {\n",
       "  /* fitted */\n",
       "  border: var(--sklearn-color-fitted-level-1) 1pt solid;\n",
       "  color: var(--sklearn-color-fitted-level-1);\n",
       "}\n",
       "\n",
       "/* On hover */\n",
       "div.sk-estimator:hover .sk-estimator-doc-link:hover,\n",
       ".sk-estimator-doc-link:hover,\n",
       "div.sk-label-container:hover .sk-estimator-doc-link:hover,\n",
       ".sk-estimator-doc-link:hover {\n",
       "  /* unfitted */\n",
       "  background-color: var(--sklearn-color-unfitted-level-3);\n",
       "  color: var(--sklearn-color-background);\n",
       "  text-decoration: none;\n",
       "}\n",
       "\n",
       "div.sk-estimator.fitted:hover .sk-estimator-doc-link.fitted:hover,\n",
       ".sk-estimator-doc-link.fitted:hover,\n",
       "div.sk-label-container:hover .sk-estimator-doc-link.fitted:hover,\n",
       ".sk-estimator-doc-link.fitted:hover {\n",
       "  /* fitted */\n",
       "  background-color: var(--sklearn-color-fitted-level-3);\n",
       "  color: var(--sklearn-color-background);\n",
       "  text-decoration: none;\n",
       "}\n",
       "\n",
       "/* Span, style for the box shown on hovering the info icon */\n",
       ".sk-estimator-doc-link span {\n",
       "  display: none;\n",
       "  z-index: 9999;\n",
       "  position: relative;\n",
       "  font-weight: normal;\n",
       "  right: .2ex;\n",
       "  padding: .5ex;\n",
       "  margin: .5ex;\n",
       "  width: min-content;\n",
       "  min-width: 20ex;\n",
       "  max-width: 50ex;\n",
       "  color: var(--sklearn-color-text);\n",
       "  box-shadow: 2pt 2pt 4pt #999;\n",
       "  /* unfitted */\n",
       "  background: var(--sklearn-color-unfitted-level-0);\n",
       "  border: .5pt solid var(--sklearn-color-unfitted-level-3);\n",
       "}\n",
       "\n",
       ".sk-estimator-doc-link.fitted span {\n",
       "  /* fitted */\n",
       "  background: var(--sklearn-color-fitted-level-0);\n",
       "  border: var(--sklearn-color-fitted-level-3);\n",
       "}\n",
       "\n",
       ".sk-estimator-doc-link:hover span {\n",
       "  display: block;\n",
       "}\n",
       "\n",
       "/* \"?\"-specific style due to the `<a>` HTML tag */\n",
       "\n",
       "#sk-container-id-9 a.estimator_doc_link {\n",
       "  float: right;\n",
       "  font-size: 1rem;\n",
       "  line-height: 1em;\n",
       "  font-family: monospace;\n",
       "  background-color: var(--sklearn-color-background);\n",
       "  border-radius: 1rem;\n",
       "  height: 1rem;\n",
       "  width: 1rem;\n",
       "  text-decoration: none;\n",
       "  /* unfitted */\n",
       "  color: var(--sklearn-color-unfitted-level-1);\n",
       "  border: var(--sklearn-color-unfitted-level-1) 1pt solid;\n",
       "}\n",
       "\n",
       "#sk-container-id-9 a.estimator_doc_link.fitted {\n",
       "  /* fitted */\n",
       "  border: var(--sklearn-color-fitted-level-1) 1pt solid;\n",
       "  color: var(--sklearn-color-fitted-level-1);\n",
       "}\n",
       "\n",
       "/* On hover */\n",
       "#sk-container-id-9 a.estimator_doc_link:hover {\n",
       "  /* unfitted */\n",
       "  background-color: var(--sklearn-color-unfitted-level-3);\n",
       "  color: var(--sklearn-color-background);\n",
       "  text-decoration: none;\n",
       "}\n",
       "\n",
       "#sk-container-id-9 a.estimator_doc_link.fitted:hover {\n",
       "  /* fitted */\n",
       "  background-color: var(--sklearn-color-fitted-level-3);\n",
       "}\n",
       "</style><div id=\"sk-container-id-9\" class=\"sk-top-container\"><div class=\"sk-text-repr-fallback\"><pre>Pipeline(steps=[(&#x27;step1&#x27;,\n",
       "                 ColumnTransformer(remainder=&#x27;passthrough&#x27;,\n",
       "                                   transformers=[(&#x27;trf&#x27;,\n",
       "                                                  OneHotEncoder(drop=&#x27;first&#x27;),\n",
       "                                                  [&#x27;batting_team&#x27;,\n",
       "                                                   &#x27;bowling_team&#x27;, &#x27;city&#x27;])])),\n",
       "                (&#x27;step2&#x27;, LogisticRegression(solver=&#x27;liblinear&#x27;))])</pre><b>In a Jupyter environment, please rerun this cell to show the HTML representation or trust the notebook. <br />On GitHub, the HTML representation is unable to render, please try loading this page with nbviewer.org.</b></div><div class=\"sk-container\" hidden><div class=\"sk-item sk-dashed-wrapped\"><div class=\"sk-label-container\"><div class=\"sk-label fitted sk-toggleable\"><input class=\"sk-toggleable__control sk-hidden--visually\" id=\"sk-estimator-id-57\" type=\"checkbox\" ><label for=\"sk-estimator-id-57\" class=\"sk-toggleable__label fitted sk-toggleable__label-arrow\"><div><div>Pipeline</div></div><div><a class=\"sk-estimator-doc-link fitted\" rel=\"noreferrer\" target=\"_blank\" href=\"https://scikit-learn.org/1.6/modules/generated/sklearn.pipeline.Pipeline.html\">?<span>Documentation for Pipeline</span></a><span class=\"sk-estimator-doc-link fitted\">i<span>Fitted</span></span></div></label><div class=\"sk-toggleable__content fitted\"><pre>Pipeline(steps=[(&#x27;step1&#x27;,\n",
       "                 ColumnTransformer(remainder=&#x27;passthrough&#x27;,\n",
       "                                   transformers=[(&#x27;trf&#x27;,\n",
       "                                                  OneHotEncoder(drop=&#x27;first&#x27;),\n",
       "                                                  [&#x27;batting_team&#x27;,\n",
       "                                                   &#x27;bowling_team&#x27;, &#x27;city&#x27;])])),\n",
       "                (&#x27;step2&#x27;, LogisticRegression(solver=&#x27;liblinear&#x27;))])</pre></div> </div></div><div class=\"sk-serial\"><div class=\"sk-item sk-dashed-wrapped\"><div class=\"sk-label-container\"><div class=\"sk-label fitted sk-toggleable\"><input class=\"sk-toggleable__control sk-hidden--visually\" id=\"sk-estimator-id-58\" type=\"checkbox\" ><label for=\"sk-estimator-id-58\" class=\"sk-toggleable__label fitted sk-toggleable__label-arrow\"><div><div>step1: ColumnTransformer</div></div><div><a class=\"sk-estimator-doc-link fitted\" rel=\"noreferrer\" target=\"_blank\" href=\"https://scikit-learn.org/1.6/modules/generated/sklearn.compose.ColumnTransformer.html\">?<span>Documentation for step1: ColumnTransformer</span></a></div></label><div class=\"sk-toggleable__content fitted\"><pre>ColumnTransformer(remainder=&#x27;passthrough&#x27;,\n",
       "                  transformers=[(&#x27;trf&#x27;, OneHotEncoder(drop=&#x27;first&#x27;),\n",
       "                                 [&#x27;batting_team&#x27;, &#x27;bowling_team&#x27;, &#x27;city&#x27;])])</pre></div> </div></div><div class=\"sk-parallel\"><div class=\"sk-parallel-item\"><div class=\"sk-item\"><div class=\"sk-label-container\"><div class=\"sk-label fitted sk-toggleable\"><input class=\"sk-toggleable__control sk-hidden--visually\" id=\"sk-estimator-id-59\" type=\"checkbox\" ><label for=\"sk-estimator-id-59\" class=\"sk-toggleable__label fitted sk-toggleable__label-arrow\"><div><div>trf</div></div></label><div class=\"sk-toggleable__content fitted\"><pre>[&#x27;batting_team&#x27;, &#x27;bowling_team&#x27;, &#x27;city&#x27;]</pre></div> </div></div><div class=\"sk-serial\"><div class=\"sk-item\"><div class=\"sk-estimator fitted sk-toggleable\"><input class=\"sk-toggleable__control sk-hidden--visually\" id=\"sk-estimator-id-60\" type=\"checkbox\" ><label for=\"sk-estimator-id-60\" class=\"sk-toggleable__label fitted sk-toggleable__label-arrow\"><div><div>OneHotEncoder</div></div><div><a class=\"sk-estimator-doc-link fitted\" rel=\"noreferrer\" target=\"_blank\" href=\"https://scikit-learn.org/1.6/modules/generated/sklearn.preprocessing.OneHotEncoder.html\">?<span>Documentation for OneHotEncoder</span></a></div></label><div class=\"sk-toggleable__content fitted\"><pre>OneHotEncoder(drop=&#x27;first&#x27;)</pre></div> </div></div></div></div></div><div class=\"sk-parallel-item\"><div class=\"sk-item\"><div class=\"sk-label-container\"><div class=\"sk-label fitted sk-toggleable\"><input class=\"sk-toggleable__control sk-hidden--visually\" id=\"sk-estimator-id-61\" type=\"checkbox\" ><label for=\"sk-estimator-id-61\" class=\"sk-toggleable__label fitted sk-toggleable__label-arrow\"><div><div>remainder</div></div></label><div class=\"sk-toggleable__content fitted\"><pre>[&#x27;runs_left&#x27;, &#x27;balls_left&#x27;, &#x27;wickets_left&#x27;, &#x27;total_runs_x&#x27;, &#x27;crr&#x27;, &#x27;rrr&#x27;]</pre></div> </div></div><div class=\"sk-serial\"><div class=\"sk-item\"><div class=\"sk-estimator fitted sk-toggleable\"><input class=\"sk-toggleable__control sk-hidden--visually\" id=\"sk-estimator-id-62\" type=\"checkbox\" ><label for=\"sk-estimator-id-62\" class=\"sk-toggleable__label fitted sk-toggleable__label-arrow\"><div><div>passthrough</div></div></label><div class=\"sk-toggleable__content fitted\"><pre>passthrough</pre></div> </div></div></div></div></div></div></div><div class=\"sk-item\"><div class=\"sk-estimator fitted sk-toggleable\"><input class=\"sk-toggleable__control sk-hidden--visually\" id=\"sk-estimator-id-63\" type=\"checkbox\" ><label for=\"sk-estimator-id-63\" class=\"sk-toggleable__label fitted sk-toggleable__label-arrow\"><div><div>LogisticRegression</div></div><div><a class=\"sk-estimator-doc-link fitted\" rel=\"noreferrer\" target=\"_blank\" href=\"https://scikit-learn.org/1.6/modules/generated/sklearn.linear_model.LogisticRegression.html\">?<span>Documentation for LogisticRegression</span></a></div></label><div class=\"sk-toggleable__content fitted\"><pre>LogisticRegression(solver=&#x27;liblinear&#x27;)</pre></div> </div></div></div></div></div></div>"
      ],
      "text/plain": [
       "Pipeline(steps=[('step1',\n",
       "                 ColumnTransformer(remainder='passthrough',\n",
       "                                   transformers=[('trf',\n",
       "                                                  OneHotEncoder(drop='first'),\n",
       "                                                  ['batting_team',\n",
       "                                                   'bowling_team', 'city'])])),\n",
       "                ('step2', LogisticRegression(solver='liblinear'))])"
      ]
     },
     "execution_count": 262,
     "metadata": {},
     "output_type": "execute_result"
    }
   ],
   "source": [
    "pipe.fit(X_train,y_train)   # train the model"
   ]
  },
  {
   "cell_type": "markdown",
   "id": "e0386d53",
   "metadata": {},
   "source": [
    "### 📈 11. Metrics of the model"
   ]
  },
  {
   "cell_type": "code",
   "execution_count": 263,
   "id": "d6d2550f",
   "metadata": {},
   "outputs": [],
   "source": [
    "from sklearn.metrics import accuracy_score, precision_score, recall_score, f1_score, confusion_matrix, classification_report, ConfusionMatrixDisplay        # for performance metrics"
   ]
  },
  {
   "cell_type": "code",
   "execution_count": 264,
   "id": "d885c191",
   "metadata": {},
   "outputs": [
    {
     "name": "stdout",
     "output_type": "stream",
     "text": [
      "Confusion Matrix:\n",
      "[[8206 2116]\n",
      " [1962 9067]]\n",
      "\n",
      "Classification Report:\n",
      "              precision    recall  f1-score   support\n",
      "\n",
      "           0       0.81      0.80      0.80     10322\n",
      "           1       0.81      0.82      0.82     11029\n",
      "\n",
      "    accuracy                           0.81     21351\n",
      "   macro avg       0.81      0.81      0.81     21351\n",
      "weighted avg       0.81      0.81      0.81     21351\n",
      "\n",
      "Accuracy: 0.8090019202847641\n",
      "Precision: 0.8107842260574085\n",
      "Recall: 0.8221053586000544\n",
      "F1 Score: 0.8164055465514136\n"
     ]
    },
    {
     "data": {
      "text/plain": [
       "' \\n--> Logistic Regression \\n\\nConfusion Matrix:\\n[[8196 2161]\\n [1984 9010]]\\n\\nClassification Report:\\n              precision    recall  f1-score   support\\n\\n           0       0.81      0.79      0.80     10357\\n           1       0.81      0.82      0.81     10994\\n\\n    accuracy                           0.81     21351\\n   macro avg       0.81      0.81      0.81     21351\\nweighted avg       0.81      0.81      0.81     21351\\n\\nAccuracy: 0.805863893962812\\nPrecision: 0.8065526810491451\\nRecall: 0.8195379297798799\\nF1 Score: 0.8129934581547484\\n\\n--> Random Forest\\n\\nConfusion Matrix:\\n[[10330    27]\\n [   18 10976]]\\n\\nClassification Report:\\n              precision    recall  f1-score   support\\n\\n           0       1.00      1.00      1.00     10357\\n           1       1.00      1.00      1.00     10994\\n\\n    accuracy                           1.00     21351\\n   macro avg       1.00      1.00      1.00     21351\\nweighted avg       1.00      1.00      1.00     21351\\n\\nAccuracy: 0.9978923703807784\\nPrecision: 0.9975461237844224\\nRecall: 0.9983627433145352\\nF1 Score: 0.9979542664908851\\n'"
      ]
     },
     "execution_count": 264,
     "metadata": {},
     "output_type": "execute_result"
    },
    {
     "data": {
      "image/png": "[encoded data removed]",
      "text/plain": [
       "<Figure size 640x480 with 2 Axes>"
      ]
     },
     "metadata": {},
     "output_type": "display_data"
    }
   ],
   "source": [
    "# Predict\n",
    "y_pred = pipe.predict(X_test)\n",
    "\n",
    "# 1. Confusion Matrix\n",
    "cm = confusion_matrix(y_test, y_pred)\n",
    "print(\"Confusion Matrix:\")\n",
    "print(cm)\n",
    "\n",
    "# 2. Classification Report\n",
    "print(\"\\nClassification Report:\")\n",
    "print(classification_report(y_test, y_pred))\n",
    "\n",
    "# 3. Visualize Confusion Matrix\n",
    "disp = ConfusionMatrixDisplay(confusion_matrix=cm)\n",
    "disp.plot(cmap='Blues')\n",
    "\n",
    "# 4. Metrics\n",
    "accuracy = accuracy_score(y_test, y_pred)\n",
    "precision = precision_score(y_test, y_pred)\n",
    "recall = recall_score(y_test, y_pred)\n",
    "f1 = f1_score(y_test, y_pred)\n",
    "\n",
    "print(\"Accuracy:\", accuracy)\n",
    "print(\"Precision:\", precision)\n",
    "print(\"Recall:\", recall)\n",
    "print(\"F1 Score:\", f1)\n",
    "\n",
    "\n",
    "\"\"\" \n",
    "--> Logistic Regression \n",
    "\n",
    "Confusion Matrix:\n",
    "[[8196 2161]\n",
    " [1984 9010]]\n",
    "\n",
    "Classification Report:\n",
    "              precision    recall  f1-score   support\n",
    "\n",
    "           0       0.81      0.79      0.80     10357\n",
    "           1       0.81      0.82      0.81     10994\n",
    "\n",
    "    accuracy                           0.81     21351\n",
    "   macro avg       0.81      0.81      0.81     21351\n",
    "weighted avg       0.81      0.81      0.81     21351\n",
    "\n",
    "Accuracy: 0.805863893962812\n",
    "Precision: 0.8065526810491451\n",
    "Recall: 0.8195379297798799\n",
    "F1 Score: 0.8129934581547484\n",
    "\n",
    "--> Random Forest\n",
    "\n",
    "Confusion Matrix:\n",
    "[[10330    27]\n",
    " [   18 10976]]\n",
    "\n",
    "Classification Report:\n",
    "              precision    recall  f1-score   support\n",
    "\n",
    "           0       1.00      1.00      1.00     10357\n",
    "           1       1.00      1.00      1.00     10994\n",
    "\n",
    "    accuracy                           1.00     21351\n",
    "   macro avg       1.00      1.00      1.00     21351\n",
    "weighted avg       1.00      1.00      1.00     21351\n",
    "\n",
    "Accuracy: 0.9978923703807784\n",
    "Precision: 0.9975461237844224\n",
    "Recall: 0.9983627433145352\n",
    "F1 Score: 0.9979542664908851\n",
    "\"\"\""
   ]
  },
  {
   "cell_type": "markdown",
   "id": "56aa69d6",
   "metadata": {},
   "source": [
    "### 📝 12. Write pkl file"
   ]
  },
  {
   "cell_type": "code",
   "execution_count": 265,
   "id": "249ca9bd",
   "metadata": {},
   "outputs": [],
   "source": [
    "import pickle       # for saving and loading models"
   ]
  },
  {
   "cell_type": "code",
   "execution_count": 266,
   "id": "a6ac0b16",
   "metadata": {},
   "outputs": [],
   "source": [
    "# Save the trained model pipeline object 'pipe' to a file named 'pipe.pkl' in binary write mode\n",
    "pickle.dump(pipe, open('models/logistic_regression.pkl', 'wb'))\n",
    "# pickle.dump(pipe, open('models/random_forest.pkl', 'wb'))"
   ]
  },
  {
   "cell_type": "markdown",
   "id": "d8fe7cdd",
   "metadata": {},
   "source": [
    "### 📈 13. Match Progression of a completed match"
   ]
  },
  {
   "cell_type": "code",
   "execution_count": 267,
   "id": "dc0e5eb4",
   "metadata": {},
   "outputs": [],
   "source": [
    "import numpy as np      # for numerical operations"
   ]
  },
  {
   "cell_type": "code",
   "execution_count": 268,
   "id": "4971f2e2",
   "metadata": {},
   "outputs": [],
   "source": [
    "# Match summary\n",
    "def match_summary(row):\n",
    "    print(\"Batting Team-\" + row['batting_team'] + \" | Bowling Team-\" + row['bowling_team'] + \" | Target- \" + str(row['total_runs_x']))"
   ]
  },
  {
   "cell_type": "code",
   "execution_count": 269,
   "id": "2b6743a2-b4d1-435c-bd55-fbe6590904ad",
   "metadata": {},
   "outputs": [],
   "source": [
    "# Function to check match progression of a particular match\n",
    "def check_match_progression(x_df, match_id, pipe):\n",
    "    \n",
    "    match = x_df[x_df['match_id'] == match_id]      # Filter the DataFrame for the given match_id    \n",
    "    match = match[(match['ball'] == 6)]     # Only consider the last ball of each over (i.e., ball number 6)\n",
    "    temp_df = match[['batting_team', 'bowling_team', 'city', 'runs_left', 'balls_left',\n",
    "                     'wickets_left', 'total_runs_x', 'crr', 'rrr']].dropna()    # Select relevant features and remove rows with missing values\n",
    "    temp_df = temp_df[temp_df['balls_left'] != 0]       # Remove rows where no balls are left (i.e., innings is over)\n",
    "    result = pipe.predict_proba(temp_df)    # Predict win and loss probabilities using the trained model pipeline\n",
    "\n",
    "    # Add predicted lose and win probabilities (in percentage) to temp_df\n",
    "    temp_df['lose'] = np.round(result.T[0] * 100, 1)\n",
    "    temp_df['win'] = np.round(result.T[1] * 100, 1)\n",
    "    \n",
    "    # Add an 'end_of_over' column to indicate over progression (1 to n)\n",
    "    temp_df['end_of_over'] = range(1, temp_df.shape[0] + 1)\n",
    "\n",
    "    # Extract target runs from the total_runs_x column (assumes constant for match)\n",
    "    target = temp_df['total_runs_x'].values[0]\n",
    "\n",
    "    # Calculate runs scored in each over\n",
    "    runs = list(temp_df['runs_left'].values)\n",
    "    new_runs = runs[:]  # Copy of runs_left after each over\n",
    "    runs.insert(0, target)  # Insert total target at the start\n",
    "    temp_df['runs_after_over'] = np.array(runs)[:-1] - np.array(new_runs)  # Difference gives runs in that over\n",
    "\n",
    "    # Calculate wickets lost in each over\n",
    "    wickets = list(temp_df['wickets_left'].values)\n",
    "    new_wickets = wickets[:]  # Copy of wickets_left\n",
    "    new_wickets.insert(0, 10)  # Start with 10 wickets\n",
    "    wickets.append(0)          # Add dummy value to match lengths\n",
    "    w = np.array(wickets)\n",
    "    nw = np.array(new_wickets)\n",
    "    temp_df['wickets_in_over'] = (nw - w)[0:temp_df.shape[0]]  # Difference gives wickets lost in that over\n",
    "\n",
    "    # Print the target for reference\n",
    "    print(\"Target-\", target)\n",
    "\n",
    "    # Keep only relevant columns for plotting or further analysis\n",
    "    temp_df = temp_df[['end_of_over', 'runs_after_over', 'wickets_in_over', 'lose', 'win']]\n",
    "\n",
    "    return temp_df, target\n"
   ]
  },
  {
   "cell_type": "code",
   "execution_count": 270,
   "id": "aa5ca450",
   "metadata": {},
   "outputs": [],
   "source": [
    "import matplotlib.pyplot as plt     # for data visualization"
   ]
  },
  {
   "cell_type": "code",
   "execution_count": 271,
   "id": "089bbd13",
   "metadata": {},
   "outputs": [],
   "source": [
    "\n",
    "def plot_match_progression(temp_df, target):\n",
    "    fig, axes = plt.subplots(1, 3, figsize=(21, 6))  # 1 row, 3 columns\n",
    "\n",
    "    # 1️⃣ Plot: Win vs Lose Probability\n",
    "    axes[0].plot(temp_df['end_of_over'], temp_df['win'], color='#00a65a', linewidth=3, label='Win Probability')\n",
    "    axes[0].plot(temp_df['end_of_over'], temp_df['lose'], color='red', linewidth=3, label='Lose Probability')\n",
    "    axes[0].set_title('Win vs Lose Probability')\n",
    "    axes[0].set_xlabel('End of Over')\n",
    "    axes[0].set_ylabel('Probability')\n",
    "    axes[0].legend()\n",
    "    axes[0].grid(True)\n",
    "\n",
    "    # 2️⃣ Plot: Runs After Over\n",
    "    axes[1].bar(temp_df['end_of_over'], temp_df['runs_after_over'], color='skyblue', alpha=0.7)\n",
    "    axes[1].set_title('Runs After Each Over')\n",
    "    axes[1].set_xlabel('End of Over')\n",
    "    axes[1].set_ylabel('Runs')\n",
    "    axes[1].grid(True)\n",
    "\n",
    "    # 3️⃣ Plot: Cumulative Wickets Progression\n",
    "    cumulative_wickets = temp_df['wickets_in_over'].cumsum()\n",
    "    axes[2].step(temp_df['end_of_over'], cumulative_wickets, where='mid', color='orange', linewidth=3, marker='o')\n",
    "    axes[2].set_title('Wickets Fallen Over Time')\n",
    "    axes[2].set_xlabel('End of Over')\n",
    "    axes[2].set_ylabel('Total Wickets Fallen')\n",
    "    axes[2].set_ylim(0, 10)  # Since max wickets = 10\n",
    "    axes[2].grid(True)\n",
    "\n",
    "    # Overall title\n",
    "    fig.suptitle(f'Match Progression | Target: {target}', fontsize=16)\n",
    "    plt.tight_layout(rect=[0, 0.03, 1, 0.95])  # Leave space for the title\n",
    "    plt.show()\n"
   ]
  },
  {
   "cell_type": "code",
   "execution_count": 272,
   "id": "727db2de-71bf-4726-a935-92908c85a03d",
   "metadata": {},
   "outputs": [
    {
     "name": "stdout",
     "output_type": "stream",
     "text": [
      "Target- 192\n"
     ]
    },
    {
     "data": {
      "image/png": "[encoded data removed]",
      "text/plain": [
       "<Figure size 2100x600 with 3 Axes>"
      ]
     },
     "metadata": {},
     "output_type": "display_data"
    }
   ],
   "source": [
    "temp_df, target = check_match_progression(delivery_df,1254117,pipe)     # 2021 final match\n",
    "plot_match_progression(temp_df, target)"
   ]
  },
  {
   "cell_type": "markdown",
   "id": "5dc5d52e-6dd3-47cd-918a-1600391c2e46",
   "metadata": {},
   "source": [
    "### 📍 12. Helper Data: Teams & Cities"
   ]
  },
  {
   "cell_type": "code",
   "execution_count": 273,
   "id": "f88ab5bb-b45c-4a6a-acd6-126c63989df5",
   "metadata": {},
   "outputs": [],
   "source": [
    "cities = delivery_df['city'].unique()\n",
    "# cities\n",
    "# teams  # Already defined earlier"
   ]
  }
 ],
 "metadata": {
  "kernelspec": {
   "display_name": ".venv",
   "language": "python",
   "name": "python3"
  },
  "language_info": {
   "codemirror_mode": {
    "name": "ipython",
    "version": 3
   },
   "file_extension": ".py",
   "mimetype": "text/x-python",
   "name": "python",
   "nbconvert_exporter": "python",
   "pygments_lexer": "ipython3",
   "version": "3.12.3"
  }
 },
 "nbformat": 4,
 "nbformat_minor": 5
}
